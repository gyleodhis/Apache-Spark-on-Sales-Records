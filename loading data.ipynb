{
 "cells": [
  {
   "cell_type": "markdown",
   "metadata": {},
   "source": [
    "# Analyzing Sales Data Using Apache Spark 2.4\n",
    "### gyleodhis@outlook.com\n",
    "### [@gyleodhis](https://www.twitter.com/gyleodhis)\n",
    "### ![@gyleodhis](./data/gyle.jpg)\n",
    "#### Licence:\n",
    "You can use this code for anything you may wish only leave this page:\n",
    "#### AS IS; HOW IS, WHERE IS"
   ]
  },
  {
   "cell_type": "code",
   "execution_count": 1,
   "metadata": {},
   "outputs": [],
   "source": [
    "from pyspark.sql import SparkSession\n",
    "import pandas as pd\n",
    "spark = SparkSession.builder.appName('data_processing').getOrCreate()"
   ]
  },
  {
   "cell_type": "code",
   "execution_count": 2,
   "metadata": {},
   "outputs": [
    {
     "data": {
      "text/plain": [
       "['Region',\n",
       " 'Country',\n",
       " 'Item Type',\n",
       " 'Sales Channel',\n",
       " 'Order Priority',\n",
       " 'Order Date',\n",
       " 'Order ID',\n",
       " 'Ship Date',\n",
       " 'Units Sold',\n",
       " 'Unit Price',\n",
       " 'Unit Cost',\n",
       " 'Total Revenue',\n",
       " 'Total Cost',\n",
       " 'Total Profit']"
      ]
     },
     "execution_count": 2,
     "metadata": {},
     "output_type": "execute_result"
    }
   ],
   "source": [
    "sales = spark.read.csv('./data/1500000 Sales Records.csv', inferSchema=True, header=True)\n",
    "sales.columns # prints column names"
   ]
  },
  {
   "cell_type": "code",
   "execution_count": 3,
   "metadata": {},
   "outputs": [
    {
     "data": {
      "text/plain": [
       "14"
      ]
     },
     "execution_count": 3,
     "metadata": {},
     "output_type": "execute_result"
    }
   ],
   "source": [
    "len(sales.columns) # total number of columns."
   ]
  },
  {
   "cell_type": "code",
   "execution_count": 4,
   "metadata": {},
   "outputs": [
    {
     "data": {
      "text/plain": [
       "1500000"
      ]
     },
     "execution_count": 4,
     "metadata": {},
     "output_type": "execute_result"
    }
   ],
   "source": [
    "sales.count() # Returns the number of records in dataset"
   ]
  },
  {
   "cell_type": "markdown",
   "metadata": {},
   "source": [
    "It is always a good practice to print the shape of the dataframe before proceeding with preprocessing as it gives an indication of the total number of rows and columns. There isn’t any direct function available in Spark to check\n",
    "the shape of data; instead we need to combine the count and length of columns to print the shape..\n",
    "#### Do not confuse with padas.shape() function."
   ]
  },
  {
   "cell_type": "code",
   "execution_count": 5,
   "metadata": {},
   "outputs": [
    {
     "name": "stdout",
     "output_type": "stream",
     "text": [
      "(1500000, 14)\n"
     ]
    }
   ],
   "source": [
    "print((sales.count(),len(sales.columns))) #prints number of rows and columns"
   ]
  },
  {
   "cell_type": "markdown",
   "metadata": {},
   "source": [
    "#### Showing datatypes of columns"
   ]
  },
  {
   "cell_type": "code",
   "execution_count": 6,
   "metadata": {},
   "outputs": [
    {
     "name": "stdout",
     "output_type": "stream",
     "text": [
      "root\n",
      " |-- Region: string (nullable = true)\n",
      " |-- Country: string (nullable = true)\n",
      " |-- Item Type: string (nullable = true)\n",
      " |-- Sales Channel: string (nullable = true)\n",
      " |-- Order Priority: string (nullable = true)\n",
      " |-- Order Date: string (nullable = true)\n",
      " |-- Order ID: integer (nullable = true)\n",
      " |-- Ship Date: string (nullable = true)\n",
      " |-- Units Sold: integer (nullable = true)\n",
      " |-- Unit Price: double (nullable = true)\n",
      " |-- Unit Cost: double (nullable = true)\n",
      " |-- Total Revenue: double (nullable = true)\n",
      " |-- Total Cost: double (nullable = true)\n",
      " |-- Total Profit: double (nullable = true)\n",
      "\n"
     ]
    }
   ],
   "source": [
    "sales.printSchema()"
   ]
  },
  {
   "cell_type": "code",
   "execution_count": 7,
   "metadata": {},
   "outputs": [
    {
     "name": "stdout",
     "output_type": "stream",
     "text": [
      "+--------------------+----------------+---------+-------------+--------------+----------+---------+----------+----------+----------+---------+-------------+----------+------------+\n",
      "|              Region|         Country|Item Type|Sales Channel|Order Priority|Order Date| Order ID| Ship Date|Units Sold|Unit Price|Unit Cost|Total Revenue|Total Cost|Total Profit|\n",
      "+--------------------+----------------+---------+-------------+--------------+----------+---------+----------+----------+----------+---------+-------------+----------+------------+\n",
      "|  Sub-Saharan Africa|    South Africa|   Fruits|      Offline|             M| 7/27/2012|443368995| 7/28/2012|      1593|      9.33|     6.92|     14862.69|  11023.56|     3839.13|\n",
      "|Middle East and N...|         Morocco|  Clothes|       Online|             M| 9/14/2013|667593514|10/19/2013|      4611|    109.28|    35.84|    503890.08| 165258.24|   338631.84|\n",
      "|Australia and Oce...|Papua New Guinea|     Meat|      Offline|             M| 5/15/2015|940995585|  6/4/2015|       360|    421.89|   364.69|     151880.4|  131288.4|     20592.0|\n",
      "|  Sub-Saharan Africa|        Djibouti|  Clothes|      Offline|             H| 5/17/2017|880811536|  7/2/2017|       562|    109.28|    35.84|     61415.36|  20142.08|    41273.28|\n",
      "|              Europe|        Slovakia|Beverages|      Offline|             L|10/26/2016|174590194| 12/4/2016|      3973|     47.45|    31.79|    188518.85| 126301.67|    62217.18|\n",
      "+--------------------+----------------+---------+-------------+--------------+----------+---------+----------+----------+----------+---------+-------------+----------+------------+\n",
      "only showing top 5 rows\n",
      "\n"
     ]
    }
   ],
   "source": [
    "sales.show(5) # shows the top 20 rows unless specified."
   ]
  },
  {
   "cell_type": "markdown",
   "metadata": {},
   "source": [
    "### Using .select() method to show only certain columns."
   ]
  },
  {
   "cell_type": "code",
   "execution_count": 8,
   "metadata": {},
   "outputs": [
    {
     "name": "stdout",
     "output_type": "stream",
     "text": [
      "+--------------------+----------------+---------------+------------+\n",
      "|              Region|         Country|      Item Type|Total Profit|\n",
      "+--------------------+----------------+---------------+------------+\n",
      "|  Sub-Saharan Africa|    South Africa|         Fruits|     3839.13|\n",
      "|Middle East and N...|         Morocco|        Clothes|   338631.84|\n",
      "|Australia and Oce...|Papua New Guinea|           Meat|     20592.0|\n",
      "|  Sub-Saharan Africa|        Djibouti|        Clothes|    41273.28|\n",
      "|              Europe|        Slovakia|      Beverages|    62217.18|\n",
      "|                Asia|       Sri Lanka|         Fruits|     3323.39|\n",
      "|  Sub-Saharan Africa|     Seychelles |      Beverages|     9349.02|\n",
      "|  Sub-Saharan Africa|        Tanzania|      Beverages|    23114.16|\n",
      "|  Sub-Saharan Africa|           Ghana|Office Supplies|    113120.0|\n",
      "|  Sub-Saharan Africa|        Tanzania|      Cosmetics|  1350622.16|\n",
      "|                Asia|          Taiwan|         Fruits|    19361.94|\n",
      "|Middle East and N...|         Algeria|      Cosmetics|  1681149.03|\n",
      "|                Asia|       Singapore|         Snacks|   423254.64|\n",
      "|Australia and Oce...|Papua New Guinea|        Clothes|   667716.48|\n",
      "|                Asia|         Vietnam|  Personal Care|   200079.04|\n",
      "|  Sub-Saharan Africa|          Uganda|  Personal Care|    11302.06|\n",
      "|  Sub-Saharan Africa|        Zimbabwe|Office Supplies|  1214903.75|\n",
      "|  Sub-Saharan Africa|        Ethiopia|      Cosmetics|   115101.94|\n",
      "|              Europe|          France|      Cosmetics|  1001143.46|\n",
      "|Central America a...|     The Bahamas|  Personal Care|   228973.22|\n",
      "+--------------------+----------------+---------------+------------+\n",
      "only showing top 20 rows\n",
      "\n"
     ]
    }
   ],
   "source": [
    "sales.select('Region','Country','Item Type','Total Profit').show(20)"
   ]
  },
  {
   "cell_type": "code",
   "execution_count": 9,
   "metadata": {},
   "outputs": [
    {
     "name": "stdout",
     "output_type": "stream",
     "text": [
      "+-------+------------------+-----------+----------+-------------+--------------+----------+--------------------+---------+------------------+------------------+------------------+------------------+------------------+------------------+\n",
      "|summary|            Region|    Country| Item Type|Sales Channel|Order Priority|Order Date|            Order ID|Ship Date|        Units Sold|        Unit Price|         Unit Cost|     Total Revenue|        Total Cost|      Total Profit|\n",
      "+-------+------------------+-----------+----------+-------------+--------------+----------+--------------------+---------+------------------+------------------+------------------+------------------+------------------+------------------+\n",
      "|  count|           1500000|    1500000|   1500000|      1500000|       1500000|   1500000|             1500000|  1500000|           1500000|           1500000|           1500000|           1500000|           1500000|           1500000|\n",
      "|   mean|              null|       null|      null|         null|          null|      null|  5.50068059580698E8|     null| 4999.304667333334|266.05319504705204|187.54961894014755| 1329887.933874674| 937487.9976215947|392399.93625307037|\n",
      "| stddev|              null|       null|      null|         null|          null|      null|2.5998343663355452E8|     null|2885.5556759380315|216.99606195310017|175.66492310195204|1468812.1303172966|1149108.1969653459|378918.08131641895|\n",
      "|    min|              Asia|Afghanistan| Baby Food|      Offline|             C|  1/1/2010|           100001180| 1/1/2010|                 1|              9.33|              6.92|              9.33|              6.92|              2.41|\n",
      "|    max|Sub-Saharan Africa|   Zimbabwe|Vegetables|       Online|             M|  9/9/2016|           999999892| 9/9/2017|             10000|            668.27|            524.96|         6682700.0|         5249600.0|         1738700.0|\n",
      "+-------+------------------+-----------+----------+-------------+--------------+----------+--------------------+---------+------------------+------------------+------------------+------------------+------------------+------------------+\n",
      "\n"
     ]
    }
   ],
   "source": [
    "# Describing the data\n",
    "sales.describe().show()\n",
    "# For numerical columns, it returns the measure of the center and spread along with the count.\n",
    "# For nonnumerical columns, it shows the count and the min and max values, which are based on\n",
    "# alphabetic order of those fields and doesn’t signify any real meaning"
   ]
  },
  {
   "cell_type": "markdown",
   "metadata": {},
   "source": [
    "## Adding a New Column to a dataframe:\n",
    "We can add a new column in the dataframe using the withColumn function of spark. Let us add a new column (age after 10 years) to ourdf dataframe (because its quite small to work with) by using the age column. We simply add 10 years to each value in the age\n",
    "column:"
   ]
  },
  {
   "cell_type": "code",
   "execution_count": 10,
   "metadata": {},
   "outputs": [
    {
     "name": "stdout",
     "output_type": "stream",
     "text": [
      "+-------+---+----------+------+-------+----------------+\n",
      "|ratings|age|experience|family| mobile|age_after_10_yrs|\n",
      "+-------+---+----------+------+-------+----------------+\n",
      "|      3| 32|       9.0|     3|   Vivo|              42|\n",
      "|      3| 27|      13.0|     3|  Apple|              37|\n",
      "|      4| 22|       2.5|     0|Samsung|              32|\n",
      "|      4| 37|      16.5|     4|  Apple|              47|\n",
      "|      5| 27|       9.0|     1|     MI|              37|\n",
      "|      4| 27|       9.0|     0|   Oppo|              37|\n",
      "|      5| 37|      23.0|     5|   Vivo|              47|\n",
      "|      5| 37|      23.0|     5|Samsung|              47|\n",
      "|      3| 22|       2.5|     0|  Apple|              32|\n",
      "|      3| 27|       6.0|     0|     MI|              37|\n",
      "+-------+---+----------+------+-------+----------------+\n",
      "only showing top 10 rows\n",
      "\n"
     ]
    }
   ],
   "source": [
    "df = spark.read.csv('./data/sample_data.csv', inferSchema=True, header=True)\n",
    "df.withColumn(\"age_after_10_yrs\",(df[\"age\"]+10)).show(10)"
   ]
  },
  {
   "cell_type": "code",
   "execution_count": 11,
   "metadata": {},
   "outputs": [
    {
     "name": "stdout",
     "output_type": "stream",
     "text": [
      "+-------+---+----------+------+-------+----------------+\n",
      "|ratings|age|experience|family| mobile|age_after_10_yrs|\n",
      "+-------+---+----------+------+-------+----------------+\n",
      "|      3| 32|       9.0|     3|   Vivo|              42|\n",
      "|      3| 27|      13.0|     3|  Apple|              37|\n",
      "|      4| 22|       2.5|     0|Samsung|              32|\n",
      "|      4| 37|      16.5|     4|  Apple|              47|\n",
      "|      5| 27|       9.0|     1|     MI|              37|\n",
      "|      4| 27|       9.0|     0|   Oppo|              37|\n",
      "|      5| 37|      23.0|     5|   Vivo|              47|\n",
      "|      5| 37|      23.0|     5|Samsung|              47|\n",
      "|      3| 22|       2.5|     0|  Apple|              32|\n",
      "|      3| 27|       6.0|     0|     MI|              37|\n",
      "|      2| 27|       6.0|     2|   Oppo|              37|\n",
      "|      5| 27|       6.0|     2|Samsung|              37|\n",
      "|      3| 37|      16.5|     5|  Apple|              47|\n",
      "|      5| 27|       6.0|     0|     MI|              37|\n",
      "|      4| 22|       6.0|     1|   Oppo|              32|\n",
      "|      4| 37|       9.0|     2|Samsung|              47|\n",
      "|      4| 27|       6.0|     1|  Apple|              37|\n",
      "|      1| 37|      23.0|     5|     MI|              47|\n",
      "|      2| 42|      23.0|     2|   Oppo|              52|\n",
      "|      4| 37|       6.0|     0|   Vivo|              47|\n",
      "+-------+---+----------+------+-------+----------------+\n",
      "only showing top 20 rows\n",
      "\n"
     ]
    }
   ],
   "source": [
    "# writing the changes to the oroginal data\n",
    "df=df.withColumn(\"age_after_10_yrs\",(df[\"age\"]+10))\n",
    "df.show()"
   ]
  },
  {
   "cell_type": "markdown",
   "metadata": {},
   "source": [
    "### Changing the datatype of a Column\n",
    "To change the datatype of the age column from integer to double,\n",
    "we can make use of the cast method in Spark. We need to import the\n",
    "DoubleType from pyspark.types:"
   ]
  },
  {
   "cell_type": "code",
   "execution_count": 12,
   "metadata": {},
   "outputs": [
    {
     "name": "stdout",
     "output_type": "stream",
     "text": [
      "+-------+---+----------+------+-------+----------------+----------+\n",
      "|ratings|age|experience|family| mobile|age_after_10_yrs|age_double|\n",
      "+-------+---+----------+------+-------+----------------+----------+\n",
      "|      3| 32|       9.0|     3|   Vivo|              42|      32.0|\n",
      "|      3| 27|      13.0|     3|  Apple|              37|      27.0|\n",
      "|      4| 22|       2.5|     0|Samsung|              32|      22.0|\n",
      "|      4| 37|      16.5|     4|  Apple|              47|      37.0|\n",
      "|      5| 27|       9.0|     1|     MI|              37|      27.0|\n",
      "|      4| 27|       9.0|     0|   Oppo|              37|      27.0|\n",
      "|      5| 37|      23.0|     5|   Vivo|              47|      37.0|\n",
      "|      5| 37|      23.0|     5|Samsung|              47|      37.0|\n",
      "|      3| 22|       2.5|     0|  Apple|              32|      22.0|\n",
      "|      3| 27|       6.0|     0|     MI|              37|      27.0|\n",
      "+-------+---+----------+------+-------+----------------+----------+\n",
      "only showing top 10 rows\n",
      "\n"
     ]
    }
   ],
   "source": [
    "from pyspark.sql.types import StringType, DoubleType\n",
    "df.withColumn('age_double',df['age'].cast(DoubleType())).show(10)"
   ]
  },
  {
   "cell_type": "markdown",
   "metadata": {},
   "source": [
    "## Filtering Data\n",
    "Filtering records based on conditions is a common requirement when dealing with data. This helps in cleaning the data and keeping only relevant records. in pyspark this is done using the \n",
    "#### filter() function."
   ]
  },
  {
   "cell_type": "code",
   "execution_count": 13,
   "metadata": {},
   "outputs": [
    {
     "name": "stdout",
     "output_type": "stream",
     "text": [
      "+------------------+--------------------+---------------+------------+\n",
      "|            Region|             Country|      Item Type|Total Profit|\n",
      "+------------------+--------------------+---------------+------------+\n",
      "|Sub-Saharan Africa|        South Africa|         Fruits|     3839.13|\n",
      "|Sub-Saharan Africa|            Djibouti|        Clothes|    41273.28|\n",
      "|Sub-Saharan Africa|         Seychelles |      Beverages|     9349.02|\n",
      "|Sub-Saharan Africa|            Tanzania|      Beverages|    23114.16|\n",
      "|Sub-Saharan Africa|               Ghana|Office Supplies|    113120.0|\n",
      "|Sub-Saharan Africa|            Tanzania|      Cosmetics|  1350622.16|\n",
      "|Sub-Saharan Africa|              Uganda|  Personal Care|    11302.06|\n",
      "|Sub-Saharan Africa|            Zimbabwe|Office Supplies|  1214903.75|\n",
      "|Sub-Saharan Africa|            Ethiopia|      Cosmetics|   115101.94|\n",
      "|Sub-Saharan Africa|              Uganda|      Cosmetics|  1048609.97|\n",
      "|Sub-Saharan Africa|Sao Tome and Prin...|        Clothes|    202694.4|\n",
      "|Sub-Saharan Africa|                Togo|      Cosmetics|   835619.22|\n",
      "|Sub-Saharan Africa|          Mauritius |        Clothes|    405388.8|\n",
      "|Sub-Saharan Africa|            Tanzania|         Fruits|    23133.59|\n",
      "|Sub-Saharan Africa|             Burundi|      Beverages|    55326.78|\n",
      "|Sub-Saharan Africa|              Rwanda|         Fruits|    14602.19|\n",
      "|Sub-Saharan Africa|               Ghana|        Clothes|   281715.84|\n",
      "|Sub-Saharan Africa|          The Gambia|         Fruits|    20964.59|\n",
      "|Sub-Saharan Africa|                Mali|      Household|   715456.41|\n",
      "|Sub-Saharan Africa|               Ghana|         Fruits|     3188.43|\n",
      "+------------------+--------------------+---------------+------------+\n",
      "only showing top 20 rows\n",
      "\n"
     ]
    }
   ],
   "source": [
    "Africa = sales.filter(sales['Region']=='Sub-Saharan Africa') ## Returns stoke for african countries only\n",
    "Africa.select('Region','Country','Item Type','Total Profit').show(20)"
   ]
  },
  {
   "cell_type": "markdown",
   "metadata": {},
   "source": [
    "### Multiple Column Based Filtering\n",
    "Returns reccords only if all the conditions are met."
   ]
  },
  {
   "cell_type": "code",
   "execution_count": 14,
   "metadata": {},
   "outputs": [
    {
     "name": "stdout",
     "output_type": "stream",
     "text": [
      "+------------------+--------------------+---------+------------+\n",
      "|            Region|             Country|Item Type|Total Profit|\n",
      "+------------------+--------------------+---------+------------+\n",
      "|Sub-Saharan Africa|        South Africa|   Fruits|     3839.13|\n",
      "|Sub-Saharan Africa|            Tanzania|   Fruits|    23133.59|\n",
      "|Sub-Saharan Africa|              Rwanda|   Fruits|    14602.19|\n",
      "|Sub-Saharan Africa|          The Gambia|   Fruits|    20964.59|\n",
      "|Sub-Saharan Africa|               Ghana|   Fruits|     3188.43|\n",
      "|Sub-Saharan Africa|             Nigeria|   Fruits|     15978.3|\n",
      "|Sub-Saharan Africa|          Mauritius |   Fruits|     5945.47|\n",
      "|Sub-Saharan Africa|             Namibia|   Fruits|    23924.07|\n",
      "|Sub-Saharan Africa|             Namibia|   Fruits|    11999.39|\n",
      "|Sub-Saharan Africa|          Mozambique|   Fruits|     2248.53|\n",
      "|Sub-Saharan Africa|Sao Tome and Prin...|   Fruits|    13170.65|\n",
      "|Sub-Saharan Africa|           Swaziland|   Fruits|     22244.3|\n",
      "|Sub-Saharan Africa|         South Sudan|   Fruits|      754.33|\n",
      "|Sub-Saharan Africa|             Nigeria|   Fruits|    13274.28|\n",
      "|Sub-Saharan Africa|             Eritrea|   Fruits|     6456.39|\n",
      "|Sub-Saharan Africa|            Zimbabwe|   Fruits|    11240.24|\n",
      "|Sub-Saharan Africa|             Senegal|   Fruits|    15450.51|\n",
      "|Sub-Saharan Africa|             Comoros|   Fruits|    18096.69|\n",
      "|Sub-Saharan Africa|       Guinea-Bissau|   Fruits|     15616.8|\n",
      "|Sub-Saharan Africa|            Djibouti|   Fruits|    19863.22|\n",
      "+------------------+--------------------+---------+------------+\n",
      "only showing top 20 rows\n",
      "\n"
     ]
    }
   ],
   "source": [
    "multiplefilter = Africa.filter(Africa['Region']=='Sub-Saharan Africa').filter(Africa['Item Type']=='Fruits')\n",
    "multiplefilter.select('Region','Country','Item Type','Total Profit').show(20)"
   ]
  },
  {
   "cell_type": "markdown",
   "metadata": {},
   "source": [
    "### Distinct Values in a column(s)"
   ]
  },
  {
   "cell_type": "code",
   "execution_count": 15,
   "metadata": {},
   "outputs": [
    {
     "name": "stdout",
     "output_type": "stream",
     "text": [
      "+--------------------+\n",
      "|             Country|\n",
      "+--------------------+\n",
      "|                Chad|\n",
      "|             Senegal|\n",
      "|             Eritrea|\n",
      "|            Djibouti|\n",
      "|              Malawi|\n",
      "|             Comoros|\n",
      "|              Rwanda|\n",
      "|               Sudan|\n",
      "|                Togo|\n",
      "|   Equatorial Guinea|\n",
      "|              Angola|\n",
      "|             Lesotho|\n",
      "|          Madagascar|\n",
      "|               Ghana|\n",
      "|          The Gambia|\n",
      "|        Sierra Leone|\n",
      "|               Benin|\n",
      "|Sao Tome and Prin...|\n",
      "|             Burundi|\n",
      "|             Nigeria|\n",
      "+--------------------+\n",
      "only showing top 20 rows\n",
      "\n"
     ]
    }
   ],
   "source": [
    "Africa.select('Country').distinct().show() #Shows african countries in the dataframe.\n",
    "#Replacing .show() with .count() returns the number of discticnt values."
   ]
  },
  {
   "cell_type": "markdown",
   "metadata": {},
   "source": [
    "## Grouping Data.\n",
    "GRouping can help us understand the various apects of the data and extract insights."
   ]
  },
  {
   "cell_type": "code",
   "execution_count": 16,
   "metadata": {},
   "outputs": [
    {
     "name": "stdout",
     "output_type": "stream",
     "text": [
      "+--------------------+------+\n",
      "|              Region| count|\n",
      "+--------------------+------+\n",
      "|Middle East and N...|186391|\n",
      "|Australia and Oce...|121405|\n",
      "|              Europe|389079|\n",
      "|  Sub-Saharan Africa|389607|\n",
      "|Central America a...|162108|\n",
      "|       North America| 32528|\n",
      "|                Asia|218882|\n",
      "+--------------------+------+\n",
      "\n"
     ]
    }
   ],
   "source": [
    "sales.groupBy('Region').count().show()"
   ]
  },
  {
   "cell_type": "markdown",
   "metadata": {},
   "source": [
    "Sorting the above data in a particular order."
   ]
  },
  {
   "cell_type": "code",
   "execution_count": 17,
   "metadata": {},
   "outputs": [
    {
     "name": "stdout",
     "output_type": "stream",
     "text": [
      "+--------------------+------+\n",
      "|              Region| count|\n",
      "+--------------------+------+\n",
      "|  Sub-Saharan Africa|389607|\n",
      "|              Europe|389079|\n",
      "|                Asia|218882|\n",
      "|Middle East and N...|186391|\n",
      "|Central America a...|162108|\n",
      "|Australia and Oce...|121405|\n",
      "|       North America| 32528|\n",
      "+--------------------+------+\n",
      "\n"
     ]
    }
   ],
   "source": [
    "sales.groupBy('Region').count().orderBy('count', ascending=False).show()"
   ]
  },
  {
   "cell_type": "code",
   "execution_count": 18,
   "metadata": {},
   "outputs": [
    {
     "name": "stdout",
     "output_type": "stream",
     "text": [
      "+---------------------------------+-------------------+------------------+------------------+------------------+------------------+-----------------+------------------+\n",
      "|Region                           |avg(Order ID)      |avg(Units Sold)   |avg(Unit Price)   |avg(Unit Cost)    |avg(Total Revenue)|avg(Total Cost)  |avg(Total Profit) |\n",
      "+---------------------------------+-------------------+------------------+------------------+------------------+------------------+-----------------+------------------+\n",
      "|Middle East and North Africa     |5.500766295723345E8|4998.727250779276 |266.49557591298105|187.934668090201  |1330032.1388415764|937878.8473834554|392153.29145811684|\n",
      "|Australia and Oceania            |5.501626799835098E8|5003.66386063177  |265.81827264118755|187.33434479634366|1330484.4323763414|937830.4436155829|392653.9887607592 |\n",
      "|Europe                           |5.499526623995693E8|5002.550484605954 |265.9982680122825 |187.52497300025738|1330109.893156062 |937733.0395847369|392376.85357133107|\n",
      "|Sub-Saharan Africa               |5.500868729056742E8|5001.247957557231 |265.7738687958682 |187.31742145281657|1329344.20666066  |936840.1486533429|392504.0580073242 |\n",
      "|Central America and the Caribbean|5.49841637871308E8 |4996.0277654403235|266.25812680434854|187.7034908826345 |1329454.3996610255|936975.5047517092|392478.8949093192 |\n",
      "+---------------------------------+-------------------+------------------+------------------+------------------+------------------+-----------------+------------------+\n",
      "only showing top 5 rows\n",
      "\n"
     ]
    }
   ],
   "source": [
    "# Calculating the statictical methods using Group by method\n",
    "sales.groupBy('Region').mean().show(5,False)"
   ]
  },
  {
   "cell_type": "code",
   "execution_count": 19,
   "metadata": {},
   "outputs": [
    {
     "name": "stdout",
     "output_type": "stream",
     "text": [
      "+--------+-------------+---------------+------------------+------------------+--------------------+-------------------+--------------------+\n",
      "| country|sum(Order ID)|sum(Units Sold)|   sum(Unit Price)|    sum(Unit Cost)|  sum(Total Revenue)|    sum(Total Cost)|   sum(Total Profit)|\n",
      "+--------+-------------+---------------+------------------+------------------+--------------------+-------------------+--------------------+\n",
      "|    Chad|4478281870537|       40971302| 2186699.500000046|1540827.2899999935|1.102570514302000...|7.771325528890009E9| 3.254379614129998E9|\n",
      "| Senegal|4515355704559|       41032763| 2140684.300000047|1501231.1999999923|1.084949844780000...|7.612428578419999E9| 3.237069869379999E9|\n",
      "| Eritrea|4392379601850|       40109911|2138600.5000000484|1506253.7499999923|1.063781470289000...|7.489852930409997E9| 3.147961772479999E9|\n",
      "|Djibouti|4483980942309|       40227173| 2158737.920000045|1521159.5699999928|1.073054205282001...|7.568167534470009E9|3.1623745183499985E9|\n",
      "|  Malawi|4494934661608|       40881904|2184689.5300000478|1542976.7899999924|1.091039496841999E10|7.710307403279993E9|3.2000875651399984E9|\n",
      "+--------+-------------+---------------+------------------+------------------+--------------------+-------------------+--------------------+\n",
      "only showing top 5 rows\n",
      "\n"
     ]
    }
   ],
   "source": [
    "Africa.groupBy('country').sum().show(5)"
   ]
  },
  {
   "cell_type": "code",
   "execution_count": 20,
   "metadata": {},
   "outputs": [
    {
     "name": "stdout",
     "output_type": "stream",
     "text": [
      "+---------------------------------+-------------+---------------+---------------+--------------+------------------+---------------+-----------------+\n",
      "|Region                           |max(Order ID)|max(Units Sold)|max(Unit Price)|max(Unit Cost)|max(Total Revenue)|max(Total Cost)|max(Total Profit)|\n",
      "+---------------------------------+-------------+---------------+---------------+--------------+------------------+---------------+-----------------+\n",
      "|Middle East and North Africa     |999999892    |10000          |668.27         |524.96        |6682700.0         |5249075.04     |1738700.0        |\n",
      "|Australia and Oceania            |999988305    |10000          |668.27         |524.96        |6679358.65        |5246975.2      |1737830.65       |\n",
      "|Europe                           |999998605    |10000          |668.27         |524.96        |6682700.0         |5249600.0      |1738700.0        |\n",
      "|Sub-Saharan Africa               |999996888    |10000          |668.27         |524.96        |6682700.0         |5249600.0      |1738700.0        |\n",
      "|Central America and the Caribbean|999999463    |10000          |668.27         |524.96        |6682700.0         |5248550.08     |1738700.0        |\n",
      "+---------------------------------+-------------+---------------+---------------+--------------+------------------+---------------+-----------------+\n",
      "only showing top 5 rows\n",
      "\n"
     ]
    }
   ],
   "source": [
    "# Viewing the max/min of each colum according to region.\n",
    "sales.groupBy('Region').max().show(5,False)"
   ]
  },
  {
   "cell_type": "markdown",
   "metadata": {},
   "source": [
    "## USer Defined Functions (UDFs)\n",
    "There are two types of UDFs available in PySpark:\n",
    "    Conventional UDF and Pandas UDF. Pandas UDF are much more powerful in terms of speed and processing time."
   ]
  },
  {
   "cell_type": "code",
   "execution_count": 21,
   "metadata": {},
   "outputs": [],
   "source": [
    "from pyspark.sql.functions import udf # Importing udf  from pyspark functions."
   ]
  },
  {
   "cell_type": "markdown",
   "metadata": {},
   "source": [
    "### Defining UDF using lambda"
   ]
  },
  {
   "cell_type": "code",
   "execution_count": 22,
   "metadata": {},
   "outputs": [
    {
     "name": "stdout",
     "output_type": "stream",
     "text": [
      "+--------------------+----------------+--------------------+\n",
      "|              Region|         Country|African Country Only|\n",
      "+--------------------+----------------+--------------------+\n",
      "|  Sub-Saharan Africa|    South Africa|     African Country|\n",
      "|Middle East and N...|         Morocco| Not African Country|\n",
      "|Australia and Oce...|Papua New Guinea| Not African Country|\n",
      "|  Sub-Saharan Africa|        Djibouti|     African Country|\n",
      "|              Europe|        Slovakia| Not African Country|\n",
      "|                Asia|       Sri Lanka| Not African Country|\n",
      "|  Sub-Saharan Africa|     Seychelles |     African Country|\n",
      "|  Sub-Saharan Africa|        Tanzania|     African Country|\n",
      "|  Sub-Saharan Africa|           Ghana|     African Country|\n",
      "|  Sub-Saharan Africa|        Tanzania|     African Country|\n",
      "+--------------------+----------------+--------------------+\n",
      "only showing top 10 rows\n",
      "\n"
     ]
    }
   ],
   "source": [
    "Africa_udf = udf(lambda  Region: \"African Country\" if Region == \"Sub-Saharan Africa\" else \"Not African Country\", StringType())\n",
    "sales.withColumn(\"African Country Only\", Africa_udf(sales.Region)).select(\"Region\",\"Country\",\"African Country Only\").show(10)"
   ]
  },
  {
   "cell_type": "markdown",
   "metadata": {},
   "source": [
    "#### From the above code we see that African countries that are in north Africa are not classified as Afircan countries."
   ]
  },
  {
   "cell_type": "markdown",
   "metadata": {},
   "source": [
    "### Pandas UDFs\n",
    "    NOte that Pandas UDFs are the most efficient in terms of speed and processing time."
   ]
  },
  {
   "cell_type": "code",
   "execution_count": 23,
   "metadata": {},
   "outputs": [],
   "source": [
    "# Pandas_udf having issues in spark 2.4\n",
    "#from pyspark.sql.functions import col, pandas_udf"
   ]
  },
  {
   "cell_type": "markdown",
   "metadata": {},
   "source": [
    "## Droping Duplicate Values"
   ]
  },
  {
   "cell_type": "code",
   "execution_count": 24,
   "metadata": {},
   "outputs": [
    {
     "data": {
      "text/plain": [
       "1500000"
      ]
     },
     "execution_count": 24,
     "metadata": {},
     "output_type": "execute_result"
    }
   ],
   "source": [
    "sales.count() # this counts the number of entries in the record"
   ]
  },
  {
   "cell_type": "code",
   "execution_count": 25,
   "metadata": {},
   "outputs": [
    {
     "data": {
      "text/plain": [
       "1391396"
      ]
     },
     "execution_count": 25,
     "metadata": {},
     "output_type": "execute_result"
    }
   ],
   "source": [
    "sales.dropDuplicates().count()  # the total number of entries after removing duplications."
   ]
  },
  {
   "cell_type": "markdown",
   "metadata": {},
   "source": [
    "## Deleting a column"
   ]
  },
  {
   "cell_type": "code",
   "execution_count": 26,
   "metadata": {},
   "outputs": [
    {
     "name": "stdout",
     "output_type": "stream",
     "text": [
      "+----------------+-------------+----------+----------+----------+---------+-------------+----------+------------+\n",
      "|         Country|Sales Channel|Order Date| Ship Date|Unit Price|Unit Cost|Total Revenue|Total Cost|Total Profit|\n",
      "+----------------+-------------+----------+----------+----------+---------+-------------+----------+------------+\n",
      "|    South Africa|      Offline| 7/27/2012| 7/28/2012|      9.33|     6.92|     14862.69|  11023.56|     3839.13|\n",
      "|         Morocco|       Online| 9/14/2013|10/19/2013|    109.28|    35.84|    503890.08| 165258.24|   338631.84|\n",
      "|Papua New Guinea|      Offline| 5/15/2015|  6/4/2015|    421.89|   364.69|     151880.4|  131288.4|     20592.0|\n",
      "|        Djibouti|      Offline| 5/17/2017|  7/2/2017|    109.28|    35.84|     61415.36|  20142.08|    41273.28|\n",
      "|        Slovakia|      Offline|10/26/2016| 12/4/2016|     47.45|    31.79|    188518.85| 126301.67|    62217.18|\n",
      "|       Sri Lanka|       Online| 11/7/2011|12/18/2011|      9.33|     6.92|     12866.07|   9542.68|     3323.39|\n",
      "|     Seychelles |       Online| 1/18/2013| 2/16/2013|     47.45|    31.79|     28327.65|  18978.63|     9349.02|\n",
      "|        Tanzania|       Online|11/30/2016| 1/16/2017|     47.45|    31.79|      70036.2|  46922.04|    23114.16|\n",
      "|           Ghana|       Online| 3/23/2017| 4/15/2017|    651.21|   524.96|    583484.16| 470364.16|    113120.0|\n",
      "|        Tanzania|      Offline| 5/23/2016| 5/24/2016|     437.2|   263.33|    3396169.6|2045547.44|  1350622.16|\n",
      "|          Taiwan|      Offline|  2/9/2014| 2/23/2014|      9.33|     6.92|     74957.22|  55595.28|    19361.94|\n",
      "|         Algeria|       Online| 2/18/2011| 2/24/2011|     437.2|   263.33|    4227286.8|2546137.77|  1681149.03|\n",
      "|       Singapore|       Online| 1/28/2013|  2/7/2013|    152.58|    97.44|   1171204.08| 747949.44|   423254.64|\n",
      "|Papua New Guinea|      Offline| 6/20/2011| 7/14/2011|    109.28|    35.84|    993573.76| 325857.28|   667716.48|\n",
      "|         Vietnam|       Online|  4/4/2010|  5/6/2010|     81.73|    56.67|    652532.32| 452453.28|   200079.04|\n",
      "|          Uganda|       Online| 6/19/2014| 7/21/2014|     81.73|    56.67|     36860.23|  25558.17|    11302.06|\n",
      "|        Zimbabwe|      Offline| 3/28/2011|  4/8/2011|    651.21|   524.96|   6266593.83|5051690.08|  1214903.75|\n",
      "|        Ethiopia|       Online|  7/7/2011| 7/25/2011|     437.2|   263.33|     289426.4| 174324.46|   115101.94|\n",
      "|          France|       Online| 12/7/2015| 1/18/2016|     437.2|   263.33|    2517397.6|1516254.14|  1001143.46|\n",
      "|     The Bahamas|       Online| 1/19/2011| 2/21/2011|     81.73|    56.67|    746767.01| 517793.79|   228973.22|\n",
      "+----------------+-------------+----------+----------+----------+---------+-------------+----------+------------+\n",
      "only showing top 20 rows\n",
      "\n"
     ]
    }
   ],
   "source": [
    "sales.drop(\"Region\", \"Item Type\", \"Order Priority\", \"Order ID\", \"Units Sold\").show()"
   ]
  },
  {
   "cell_type": "markdown",
   "metadata": {},
   "source": [
    "## Writing data to file\n",
    "### CSV\n",
    "To save the data into csv format we use the coalesce function in spark:"
   ]
  },
  {
   "cell_type": "code",
   "execution_count": 27,
   "metadata": {},
   "outputs": [],
   "source": [
    "#pwd # prints the working directory.\n",
    "write_uri = \"./data/new/\"\n",
    "df.coalesce(1).write.format(\"csv\").option(\"header\",\"true\").save(write_uri)"
   ]
  },
  {
   "cell_type": "markdown",
   "metadata": {},
   "source": [
    "### Parquet\n",
    "If the dataset is huge and involves a lot of columns, we can choose to compress it and convert it into a parquet file format. It reduces the overall size of the data and optimizes the performance while processing data because it works on subsets of required columns instead of the entire data. We can convert and save the dataframe into the parquet format easily by mentioning the format as parquet:"
   ]
  },
  {
   "cell_type": "code",
   "execution_count": 28,
   "metadata": {},
   "outputs": [],
   "source": [
    "Salesdropped = sales.drop(\"Item Type\", \"Order Priority\", \"Order ID\", \"Units Sold\",\"Sales Channel\",\"Order Date\",\"Ship Date\",\"Unit Price\",\"Unit Cost\",\"Total Revenue\",\"Total Cost\",\"Total Profit\")\n",
    "parquet_uri = \"./data/parquet/\"\n",
    "Salesdropped.write.format('parquet').save(parquet_uri)"
   ]
  },
  {
   "cell_type": "code",
   "execution_count": null,
   "metadata": {},
   "outputs": [],
   "source": []
  }
 ],
 "metadata": {
  "kernelspec": {
   "display_name": "Python 3",
   "language": "python",
   "name": "python3"
  },
  "language_info": {
   "codemirror_mode": {
    "name": "ipython",
    "version": 3
   },
   "file_extension": ".py",
   "mimetype": "text/x-python",
   "name": "python",
   "nbconvert_exporter": "python",
   "pygments_lexer": "ipython3",
   "version": "3.5.2"
  }
 },
 "nbformat": 4,
 "nbformat_minor": 2
}
